{
 "cells": [
  {
   "cell_type": "markdown",
   "source": [
    "# Notebooks that we used to analyze the survey data.\n",
    "\n",
    "We hope this notebook will provide insights for future researchers using our system.\n",
    "Aggregated results are provided as-is for demonstrating usage of these code; Data from individual participants will not be made public due to consenting reasons."
   ],
   "metadata": {
    "collapsed": false
   }
  },
  {
   "cell_type": "markdown",
   "source": [
    "## Gather information from qualtrics"
   ],
   "metadata": {
    "collapsed": false
   }
  },
  {
   "cell_type": "code",
   "execution_count": 1,
   "outputs": [],
   "source": [
    "import sys\n",
    "import scipy.stats"
   ],
   "metadata": {
    "collapsed": false
   }
  },
  {
   "cell_type": "code",
   "execution_count": 2,
   "outputs": [],
   "source": [
    "# Constants\n",
    "try:\n",
    "    import os\n",
    "    with open(\"q_apikey.txt\",'r') as f:\n",
    "        Q_API_TOKEN = f.read()\n",
    "except FileNotFoundError:\n",
    "    print(\"Create a file named 'q_apikey.txt' and put in your qualtrics api key to continue.\")\n",
    "    sys.exit(2)\n",
    "Q_DATA_CENTER = \"iad1\" # for gatech\n",
    "Q_SURVEY_ID = \"SV_eW2YWnPuG0ZWcmO\"\n",
    "Q_FILE_FORMAT = \"csv\"\n",
    "Q_SURVEY_NAME = \"CW2-Final\" # Used to find name of the csv\n",
    "\n",
    "from QualtricsHelper import *\n"
   ],
   "metadata": {
    "collapsed": false
   }
  },
  {
   "cell_type": "code",
   "execution_count": 3,
   "outputs": [],
   "source": [
    "# Use this to download survey results from Qualtrics\n",
    "\n",
    "# result = exportSurvey(\n",
    "#     apiToken=Q_API_TOKEN,\n",
    "#     surveyId=Q_SURVEY_ID,\n",
    "#     dataCenter=Q_DATA_CENTER,\n",
    "#     fileFormat=Q_FILE_FORMAT,\n",
    "# )"
   ],
   "metadata": {
    "collapsed": false
   }
  },
  {
   "cell_type": "code",
   "execution_count": 4,
   "outputs": [
    {
     "name": "stdout",
     "output_type": "stream",
     "text": [
      "Done parsing survey, found 185 records.\n"
     ]
    }
   ],
   "source": [
    "survey_csv = openSurveyCSV(Q_SURVEY_NAME)\n",
    "\n",
    "# Filtering\n",
    "\n",
    "# We only need survey that comes from qualtrics and are complete\n",
    "result_df = survey_csv[survey_csv[\"DistributionChannel\"] == \"anonymous\"]\n",
    "result_df = result_df[result_df[\"Finished\"] == \"1\"]\n",
    "#result_df = result_df[pandas.isna(result_df[\"Q1\"])]\n",
    "result_df = result_df[pandas.isna(result_df[\"Ablation\"]) == False ]\n",
    "\n",
    "# Reindex dataframe with participant PIDs\n",
    "result_df = result_df.set_index([\"PROLIFIC_PID\"])\n",
    "\n",
    "# Generate json objects\n",
    "survey_dict = result_df.to_dict(\"index\")\n",
    "for key in survey_dict:\n",
    "    survey_dict[key][\"logs\"] = []\n",
    "print(f\"Done parsing survey, found {len(survey_dict.keys())} records.\")"
   ],
   "metadata": {
    "collapsed": false
   }
  },
  {
   "cell_type": "markdown",
   "source": [
    "# Associating surveys with logs"
   ],
   "metadata": {
    "collapsed": false
   }
  },
  {
   "cell_type": "markdown",
   "source": [
    "# Retrieve questions and counts, using filters"
   ],
   "metadata": {
    "collapsed": false
   }
  },
  {
   "cell_type": "code",
   "execution_count": 5,
   "outputs": [
    {
     "name": "stdout",
     "output_type": "stream",
     "text": [
      "['Q14.2#1_1', 'Q14.2#1_2', 'Q14.2#1_3', 'Q14.2#1_4', 'Q14.2#1_5', 'Q14.2#1_6', 'Q14.2#1_7']\n",
      "Q4.1\n",
      "1 3 33.3% 33.3% 33.3% 33.3% 33.3% 33.3% 33.3% \n",
      "2 44 61.4% 56.8% 54.5% 54.5% 61.4% 56.8% 56.8% \n",
      "3 62 66.1% 67.7% 72.6% 67.7% 66.1% 69.4% 71.0% \n",
      "4 76 60.5% 57.9% 60.5% 63.2% 53.9% 56.6% 57.9% \n",
      "Q4.2\n",
      "1 94 63.8% 63.8% 60.6% 66.0% 64.9% 67.0% 66.0% \n",
      "2 65 52.3% 50.8% 66.2% 52.3% 46.2% 49.2% 53.8% \n",
      "3 21 81.0% 76.2% 61.9% 76.2% 71.4% 61.9% 61.9% \n",
      "4 5 80.0% 60.0% 60.0% 60.0% 80.0% 80.0% 80.0% \n",
      "Q4.3\n",
      "1 29 48.3% 55.2% 48.3% 51.7% 48.3% 58.6% 58.6% \n",
      "2 107 66.4% 64.5% 67.3% 67.3% 61.7% 58.9% 63.6% \n",
      "3 49 61.2% 55.1% 61.2% 57.1% 61.2% 65.3% 59.2% \n"
     ]
    }
   ],
   "source": [
    "def get_count(filters:list):\n",
    "    count = 0\n",
    "    for key in survey_dict:\n",
    "        entry = survey_dict[key]\n",
    "        fit_condition = True\n",
    "        for one_filter in filters:\n",
    "            if entry[one_filter[0]] != one_filter[1]:\n",
    "                fit_condition = False\n",
    "                break\n",
    "        if fit_condition:\n",
    "            count += 1\n",
    "    return count\n",
    "\n",
    "import scipy\n",
    "\n",
    "total = get_count([(\"UserLanguage\",\"EN\")])\n",
    "\n",
    "keys_of_concern_prefix = \"Q14.2#1_\"\n",
    "keys_of_concern = []\n",
    "for i in range(7):\n",
    "    keys_of_concern.append(keys_of_concern_prefix+str(i+1))\n",
    "\n",
    "print(keys_of_concern)\n",
    "\n",
    "# print(\"----- Overall -----\")\n",
    "# for key in keys_of_concern:\n",
    "#     this_count = get_count([(key,\"1\")]) # Favor \"Fish\" = 1, other = 2\n",
    "#     p_value = scipy.stats.binomtest(k=this_count,n=total,p=0.5,alternative=\"greater\")\n",
    "#\n",
    "#     p_sig = \" \"\n",
    "#     # if p_value.pvalue < 0.1:\n",
    "#     #     p_sig =\"^\"\n",
    "#     # if p_value.pvalue < 0.05:\n",
    "#     #     p_sig = \"*\"\n",
    "#     print(f\"{this_count/total:.1%} {p_sig} \", end=\"\")\n",
    "#\n",
    "#     #print(f\"{key}:{this_count}/{total}, .{int(1000*this_count/total)}, p={p_value.pvalue}\")\n",
    "#     #print(f\"{key}:{p_value}\")\n",
    "#\n",
    "# Ablations = [\"Apple\",\"Hat\",\"Eggplant\",\"Rabbit\",\"Grape\",\"Leaf\"]\n",
    "# for ablation in Ablations:\n",
    "#     #print(f\"\\n----- Ablation {ablation} -----\")\n",
    "#     print(f\"\\n{ablation}\",end=\" \")\n",
    "#     for key in keys_of_concern:\n",
    "#         this_total = get_count([(\"Ablation\",ablation)])\n",
    "#         this_count = get_count([(key,\"1\"),(\"Ablation\",ablation)]) # Favor \"Fish\" = 1, other = 2\n",
    "#         p_value = scipy.stats.binomtest(k=this_count,n=this_total,p=0.5,alternative=\"greater\")\n",
    "#         p_sig = \" \"\n",
    "#         # if p_value.pvalue < 0.1:\n",
    "#         #     p_sig =\"^\"\n",
    "#         # if p_value.pvalue < 0.05:\n",
    "#         #     p_sig = \"*\"\n",
    "#         print(f\"{this_count/this_total:.1%} {p_sig} \", end=\"\")\n",
    "#         #print(f\"{key}:{this_count}/{this_total}, .{int(1000*this_count/this_total)}, p={p_value.pvalue}\")\n",
    "#         #print(f\"{key}:{p_value}\")\n",
    "\n",
    "this_q = \"Q4.1\"\n",
    "Ablations = [\"1\",\"2\",\"3\",\"4\"]\n",
    "\n",
    "def print_q(this_q,Ablations):\n",
    "    print(this_q)\n",
    "    for ablation in Ablations:\n",
    "        #print(f\"----- Q4.1 {ablation} -----\")\n",
    "\n",
    "        this_total = get_count([(this_q,ablation)])\n",
    "        print(f\"{ablation} {this_total} \",end=\"\")\n",
    "        for key in keys_of_concern:\n",
    "\n",
    "            this_total = get_count([(this_q,ablation)])\n",
    "            this_count = get_count([(key,\"1\"),(this_q,ablation)]) # Favor \"Fish\" = 1, other = 2\n",
    "            p_value = scipy.stats.binomtest(k=this_count,n=this_total,p=0.5,alternative=\"greater\")\n",
    "            #print(f\"{key}:{this_count}/{this_total}, .{int(1000*this_count/this_total)}, p={p_value.pvalue}\")\n",
    "            #print(f\"{key}:{p_value}\")\n",
    "            print(f\"{this_count/this_total:.1%} \",end=\"\")\n",
    "        print()\n",
    "\n",
    "#\n",
    "# Ablations = [\"1\",\"2\",\"3\",\"4\"]\n",
    "# for ablation in Ablations:\n",
    "#     print(f\"----- Q4.2 {ablation} -----\")\n",
    "#     for key in keys_of_concern:\n",
    "#         this_total = get_count([(\"Q4.2\",ablation)])\n",
    "#         this_count = get_count([(key,\"1\"),(\"Q4.2\",ablation)]) # Favor \"Fish\" = 1, other = 2\n",
    "#         p_value = scipy.stats.binomtest(k=this_count,n=this_total,p=0.5,alternative=\"greater\")\n",
    "#         print(f\"{key}:{this_count}/{this_total}, .{int(1000*this_count/this_total)}, p={p_value.pvalue}\")\n",
    "#         #print(f\"{key}:{p_value}\")\n",
    "#\n",
    "#\n",
    "# Ablations = [\"1\",\"2\",\"3\"]\n",
    "# for ablation in Ablations:\n",
    "#     print(f\"----- Q4.3 {ablation} -----\")\n",
    "#     for key in keys_of_concern:\n",
    "#\n",
    "#         this_total = get_count([(\"Q4.3\",ablation)])\n",
    "#         this_count = get_count([(key,\"1\"),(\"Q4.3\",ablation)]) # Favor \"Fish\" = 1, other = 2\n",
    "#         p_value = scipy.stats.binomtest(k=this_count,n=this_total,p=0.5,alternative=\"greater\")\n",
    "#         print(f\"{key}:{this_count}/{this_total}, .{int(1000*this_count/this_total)}, p={p_value.pvalue}\")\n",
    "#         #print(f\"{key}:{p_value}\")\n",
    "#\n",
    "#\n",
    "\n",
    "print_q(\"Q4.1\",[\"1\",\"2\",\"3\",\"4\"])\n",
    "print_q(\"Q4.2\",[\"1\",\"2\",\"3\",\"4\"])\n",
    "print_q(\"Q4.3\",[\"1\",\"2\",\"3\"])"
   ],
   "metadata": {
    "collapsed": false
   }
  },
  {
   "cell_type": "code",
   "execution_count": 6,
   "outputs": [
    {
     "name": "stdout",
     "output_type": "stream",
     "text": [
      "[[       nan 0.73834347 0.4584546  0.60931677 0.78594874 0.5787183\n",
      "  0.57606755]\n",
      " [0.73834347        nan 0.52079581 0.71553988 0.77499873 0.50220157\n",
      "  0.59091101]\n",
      " [0.4584546  0.52079581        nan 0.4584546  0.50147247 0.42931968\n",
      "  0.47161875]\n",
      " [0.60931677 0.71553988 0.4584546         nan 0.60433997 0.53311111\n",
      "  0.5073111 ]\n",
      " [0.78594874 0.77499873 0.50147247 0.60433997        nan 0.59479479\n",
      "  0.68407424]\n",
      " [0.5787183  0.50220157 0.42931968 0.53311111 0.59479479        nan\n",
      "  0.68187713]\n",
      " [0.57606755 0.59091101 0.47161875 0.5073111  0.68407424 0.68187713\n",
      "         nan]]\n"
     ]
    },
    {
     "data": {
      "text/plain": "<Figure size 640x480 with 1 Axes>",
      "image/png": "[encoded data removed]"
     },
     "metadata": {},
     "output_type": "display_data"
    }
   ],
   "source": [
    "def answer_of_question(q:str):\n",
    "    result = []\n",
    "    for key in survey_dict:\n",
    "        if q in survey_dict[key]:\n",
    "            result.append(int(survey_dict[key][q]))\n",
    "    return result\n",
    "\n",
    "all_vectors = {}\n",
    "for key in keys_of_concern:\n",
    "    all_vectors[key] = answer_of_question(key)\n",
    "\n",
    "import numpy as np\n",
    "import matplotlib\n",
    "result_corr = np.zeros([7,7])\n",
    "\n",
    "idx1 = -1\n",
    "for key in keys_of_concern:\n",
    "    idx1 += 1\n",
    "    idx2 = -1\n",
    "    for key2 in keys_of_concern:\n",
    "        idx2 += 1\n",
    "        if key == key2:\n",
    "            result_corr[idx1][idx2] = np.nan\n",
    "        else:\n",
    "        #if key < key2:\n",
    "\n",
    "            corr = scipy.stats.pearsonr(all_vectors[key],all_vectors[key2])\n",
    "            result_corr[idx1][idx2] = corr.statistic\n",
    "            #print(f\"corr {key} {key2}:{corr}\")\n",
    "\n",
    "print(result_corr)\n",
    "import matplotlib.pyplot as plt\n",
    "fig, ax = plt.subplots()\n",
    "im = ax.imshow(result_corr,cmap = 'Greens', vmin=0, vmax=1)\n",
    "\n",
    "keys_of_concern_short = []\n",
    "for item in keys_of_concern:\n",
    "    keys_of_concern_short.append(f\"Q{item[-1:]}\")\n",
    "\n",
    "ax.set_xticks(np.arange(len(keys_of_concern_short)), labels=keys_of_concern_short)\n",
    "ax.set_yticks(np.arange(len(keys_of_concern_short)), labels=keys_of_concern_short)\n",
    "\n",
    "plt.setp(ax.get_xticklabels(), rotation=45, ha=\"right\",\n",
    "         rotation_mode=\"anchor\")\n",
    "\n",
    "for i in range(len(keys_of_concern)):\n",
    "    for j in range(len(keys_of_concern)):\n",
    "        if i==j:\n",
    "            continue\n",
    "        this_corr = f\"{result_corr[i,j]:.2f}\"\n",
    "\n",
    "        text = ax.text(j, i, this_corr,\n",
    "                       ha=\"center\", va=\"center\", color=\"k\",backgroundcolor=\"w\")\n",
    "\n",
    "plt.show()\n"
   ],
   "metadata": {
    "collapsed": false
   }
  },
  {
   "cell_type": "code",
   "execution_count": 7,
   "outputs": [],
   "source": [
    "def get_answer_of_question_with_filter(question, filters:list):\n",
    "    \"\"\"\n",
    "    if question is list, then it is treated as multiple questions.\n",
    "    \"\"\"\n",
    "    result = []\n",
    "    for key in survey_dict:\n",
    "        entry = survey_dict[key]\n",
    "        fit_condition = True\n",
    "        for one_filter in filters:\n",
    "            if entry[one_filter[0]] != one_filter[1]:\n",
    "                fit_condition = False\n",
    "                break\n",
    "        if fit_condition:\n",
    "            if type(question) is list:\n",
    "                for q in question:\n",
    "                    result.append(int(entry[q]))\n",
    "            else:\n",
    "                result.append(int(entry[question]))\n",
    "    return result\n",
    "\n",
    "def calculate_correlation(q1, filter1, q2, filter2):\n",
    "    result1 = get_answer_of_question_with_filter(q1,filter1)\n",
    "    result2 = get_answer_of_question_with_filter(q2,filter2)\n",
    "    #print(f\"len1 = {len(result1)}, len2 = {len(result2)}\")\n",
    "    #print(result1)\n",
    "    return scipy.stats.ttest_ind(result1,result2,equal_var=False)"
   ],
   "metadata": {
    "collapsed": false
   }
  },
  {
   "cell_type": "code",
   "execution_count": 8,
   "outputs": [
    {
     "name": "stdout",
     "output_type": "stream",
     "text": [
      "Group [('Q4.1', '2')] vs. group [('Q4.1', '3')]: p-value = 0.0019319343884004626\n",
      "Group [('Q4.1', '2')] vs. group [('Q4.1', '4')]: p-value = 0.7391609997902946\n",
      "Group [('Q4.1', '3')] vs. group [('Q4.1', '4')]: p-value = 0.0012212432193144938\n",
      "Group [('Q4.2', '1')] vs. group [('Q4.2', '2')]: p-value = 0.00011120719931383812\n",
      "Group [('Q4.2', '1')] vs. group [('Q4.2', '3')]: p-value = 0.1960372033592154\n",
      "Group [('Q4.2', '2')] vs. group [('Q4.2', '3')]: p-value = 0.00015492324146183133\n",
      "Group [('Q4.3', '1')] vs. group [('Q4.3', '2')]: p-value = 0.0036210227762774657\n",
      "Group [('Q4.3', '1')] vs. group [('Q4.3', '3')]: p-value = 0.09557552817470626\n",
      "Group [('Q4.3', '2')] vs. group [('Q4.3', '3')]: p-value = 0.19062923448329389\n"
     ]
    }
   ],
   "source": [
    "def print_corr(g1,g2):\n",
    "    print(f\"Group {g1} vs. group {g2}: \",end=\"\")\n",
    "\n",
    "    result = calculate_correlation(keys_of_concern,g1,keys_of_concern,g2)\n",
    "    print(f\"p-value = {result.pvalue}\")\n",
    "\n",
    "print_corr([(\"Q4.1\",\"2\")],[(\"Q4.1\",\"3\")])\n",
    "print_corr([(\"Q4.1\",\"2\")],[(\"Q4.1\",\"4\")])\n",
    "print_corr([(\"Q4.1\",\"3\")],[(\"Q4.1\",\"4\")])\n",
    "\n",
    "print_corr([(\"Q4.2\",\"1\")],[(\"Q4.2\",\"2\")])\n",
    "print_corr([(\"Q4.2\",\"1\")],[(\"Q4.2\",\"3\")])\n",
    "print_corr([(\"Q4.2\",\"2\")],[(\"Q4.2\",\"3\")])\n",
    "\n",
    "print_corr([(\"Q4.3\",\"1\")],[(\"Q4.3\",\"2\")])\n",
    "print_corr([(\"Q4.3\",\"1\")],[(\"Q4.3\",\"3\")])\n",
    "print_corr([(\"Q4.3\",\"2\")],[(\"Q4.3\",\"3\")])\n",
    "\n",
    "#result = calculate_correlation(keys_of_concern,[(\"Q4.3\",\"3\")],keys_of_concern,[(\"Q4.1\",\"2\")])\n",
    "#result = calculate_correlation(keys_of_concern,[(\"Q4.3\",\"3\")],keys_of_concern,[(\"Q4.1\",\"2\")])\n"
   ],
   "metadata": {
    "collapsed": false
   }
  }
 ],
 "metadata": {
  "kernelspec": {
   "display_name": "Python 3",
   "language": "python",
   "name": "python3"
  },
  "language_info": {
   "codemirror_mode": {
    "name": "ipython",
    "version": 2
   },
   "file_extension": ".py",
   "mimetype": "text/x-python",
   "name": "python",
   "nbconvert_exporter": "python",
   "pygments_lexer": "ipython2",
   "version": "2.7.6"
  }
 },
 "nbformat": 4,
 "nbformat_minor": 0
}
